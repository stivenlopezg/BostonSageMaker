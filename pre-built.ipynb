{
 "cells": [
  {
   "cell_type": "code",
   "execution_count": null,
   "metadata": {
    "collapsed": true
   },
   "outputs": [],
   "source": [
    "import joblib\n",
    "import warnings\n",
    "import sagemaker\n",
    "import pandas as pd\n",
    "from datetime import datetime\n",
    "from aws.sagemaker import create_model\n",
    "from sagemaker.inputs import TrainingInput\n",
    "from utilities.evaluation import RegressionEvaluator\n",
    "from utilities.utils import download_artifact, decompress_artifact, prediction\n",
    "\n",
    "warnings.filterwarnings(action=\"ignore\")"
   ]
  },
  {
   "cell_type": "code",
   "execution_count": null,
   "outputs": [],
   "source": [
    "print(f\"Sagemaker: {sagemaker.__version__}\")\n",
    "session = sagemaker.Session()\n",
    "role = sagemaker.get_execution_role(sagemaker_session=session)"
   ],
   "metadata": {
    "collapsed": false,
    "pycharm": {
     "name": "#%%\n"
    }
   }
  },
  {
   "cell_type": "code",
   "execution_count": null,
   "outputs": [],
   "source": [
    "bucket = \"housing-boston\"\n",
    "prefix = \"boston-data\"\n",
    "\n",
    "train_path = f\"s3://{bucket}/{prefix}/train/train.csv\"\n",
    "validation_path = f\"s3://{bucket}/{prefix}/validation/validation.csv\"\n",
    "\n",
    "output_path = f\"s3://{bucket}/{prefix}/output\""
   ],
   "metadata": {
    "collapsed": false,
    "pycharm": {
     "name": "#%%\n"
    }
   }
  },
  {
   "cell_type": "code",
   "execution_count": null,
   "outputs": [],
   "source": [
    "params = {\n",
    "    \"objective\": \"reg:linear\",\n",
    "    \"num_round\": 200,\n",
    "    \"max_depth\": 5,\n",
    "    \"subsample\": 0.7\n",
    "}\n",
    "\n",
    "estimator = create_model(image=\"xgboost\", version=\"1.2-2\",\n",
    "                         role=role, instance_type=\"ml.t2.medium\",\n",
    "                         params=params, output_path=output_path, input_mode=\"File\")"
   ],
   "metadata": {
    "collapsed": false,
    "pycharm": {
     "name": "#%%\n"
    }
   }
  },
  {
   "cell_type": "code",
   "execution_count": null,
   "outputs": [],
   "source": [
    "job_name = f\"xgboost-boston-job-{datetime.now().strftime('%Y-%m-%d-%H-%M')}\"\n",
    "\n",
    "train_data_channel = TrainingInput(s3_data=train_path, content_type=\"text/csv\")\n",
    "validation_data_channel = TrainingInput(s3_data=validation_path, content_type=\"text/csv\")"
   ],
   "metadata": {
    "collapsed": false,
    "pycharm": {
     "name": "#%%\n"
    }
   }
  },
  {
   "cell_type": "code",
   "execution_count": null,
   "outputs": [],
   "source": [
    "estimator.fit(inputs={\"train\": train_data_channel, \"validation\": validation_data_channel}, job_name=job_name)"
   ],
   "metadata": {
    "collapsed": false,
    "pycharm": {
     "name": "#%%\n"
    }
   }
  },
  {
   "cell_type": "code",
   "execution_count": null,
   "outputs": [],
   "source": [
    "model_dir = f\"{output_path}/{job_name}/output/model.tar.gz\"\n",
    "\n",
    "download_artifact(s3_path=model_dir, localpath=f\"models/{job_name}/model.tar.gz\")"
   ],
   "metadata": {
    "collapsed": false,
    "pycharm": {
     "name": "#%%\n"
    }
   }
  },
  {
   "cell_type": "code",
   "execution_count": null,
   "outputs": [],
   "source": [
    "decompress_artifact(localpath=f\"models/{job_name}/model.tar.gz\")"
   ],
   "metadata": {
    "collapsed": false,
    "pycharm": {
     "name": "#%%\n"
    }
   }
  },
  {
   "cell_type": "code",
   "execution_count": null,
   "outputs": [],
   "source": [],
   "metadata": {
    "collapsed": false,
    "pycharm": {
     "name": "#%%\n"
    }
   }
  }
 ],
 "metadata": {
  "kernelspec": {
   "display_name": "Python 3",
   "language": "python",
   "name": "python3"
  },
  "language_info": {
   "codemirror_mode": {
    "name": "ipython",
    "version": 2
   },
   "file_extension": ".py",
   "mimetype": "text/x-python",
   "name": "python",
   "nbconvert_exporter": "python",
   "pygments_lexer": "ipython2",
   "version": "2.7.6"
  }
 },
 "nbformat": 4,
 "nbformat_minor": 0
}